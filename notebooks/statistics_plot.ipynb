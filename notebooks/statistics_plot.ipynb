{
 "cells": [
  {
   "cell_type": "code",
   "execution_count": 2,
   "metadata": {},
   "outputs": [],
   "source": [
    "import os\n",
    "import sys\n",
    "import time\n",
    "import numpy as np\n",
    "import pandas as pd\n",
    "from matplotlib import pyplot as plt\n",
    "\n",
    "sys.path.append('..')\n",
    "sys.path.append('../..')\n",
    "\n",
    "from library import ModelStatistics, SemanticHeterogenityRegularizer\n",
    "from library import custom_fit_offline, weigh_average\n",
    "\n",
    "import artm"
   ]
  },
  {
   "cell_type": "code",
   "execution_count": 3,
   "metadata": {},
   "outputs": [],
   "source": [
    "DATA_PATH = '../data/lenta_22.vw'\n",
    "BATCH_PATH = '../data/lenta_22_batches'\n",
    "DICT_PATH = '../data/lenta_22.dict'\n",
    "\n",
    "batch_vectorizer_lenta = artm.BatchVectorizer(\n",
    "    data_path=DATA_PATH,\n",
    "    data_format='vowpal_wabbit', \n",
    "    target_folder=BATCH_PATH\n",
    ")\n",
    "\n",
    "dictionary_lenta = artm.Dictionary()\n",
    "if not os.path.isfile(DICT_PATH):\n",
    "    dictionary_lenta.gather(data_path=batch_vectorizer_lenta.data_path)\n",
    "    dictionary_lenta.save(DICT_PATH)\n",
    "dictionary_lenta.load(DICT_PATH)"
   ]
  },
  {
   "cell_type": "markdown",
   "metadata": {},
   "source": [
    "## Semantic heterogenity regularizer"
   ]
  },
  {
   "cell_type": "code",
   "execution_count": null,
   "metadata": {},
   "outputs": [],
   "source": [
    "model_lenta = artm.ARTM(num_topics=22, cache_theta=True)\n",
    "model_lenta.scores.add(artm.scores.PerplexityScore(name='perplexity'))\n",
    "model_lenta.initialize(dictionary_lenta)\n",
    "\n",
    "statistics = ModelStatistics(model_lenta)\n",
    "custom_regularizers = [\n",
    "    SemanticHeterogenityRegularizer('heterogenity', 0.05, statistics, batch_vectorizer_lenta)\n",
    "]\n",
    "\n",
    "custom_fit_offline(model_lenta, custom_regularizers, batch_vectorizer_lenta, 15)"
   ]
  },
  {
   "cell_type": "code",
   "execution_count": 4,
   "metadata": {},
   "outputs": [],
   "source": [
    "model_lenta_unbalanced = artm.ARTM(num_topics=22, cache_theta=True)\n",
    "model_lenta_unbalanced.scores.add(artm.scores.PerplexityScore(name='perplexity'))\n",
    "model_lenta_unbalanced.initialize(dictionary_lenta)\n",
    "\n",
    "model_lenta_unbalanced.fit_offline(batch_vectorizer_lenta, 15)"
   ]
  },
  {
   "cell_type": "code",
   "execution_count": 5,
   "metadata": {},
   "outputs": [],
   "source": [
    "statistics = ModelStatistics(model_lenta_unbalanced)"
   ]
  },
  {
   "cell_type": "code",
   "execution_count": 6,
   "metadata": {},
   "outputs": [
    {
     "name": "stderr",
     "output_type": "stream",
     "text": [
      "../library/statistics.py:146: RuntimeWarning: divide by zero encountered in log\n",
      "  model_loss = np.log(self.phi.values / phi_safe)\n"
     ]
    }
   ],
   "source": [
    "topic_stat = statistics.calculate_topic_statistics(batch_vectorizer_lenta, calculate_n=True, recalculate_n=False)"
   ]
  },
  {
   "cell_type": "code",
   "execution_count": 10,
   "metadata": {},
   "outputs": [
    {
     "data": {
      "text/plain": [
       "[<matplotlib.lines.Line2D at 0x7f8808138dd8>]"
      ]
     },
     "execution_count": 10,
     "metadata": {},
     "output_type": "execute_result"
    },
    {
     "data": {
      "image/png": "[encoded data removed]",
      "text/plain": [
       "<Figure size 1008x288 with 2 Axes>"
      ]
     },
     "metadata": {},
     "output_type": "display_data"
    }
   ],
   "source": [
    "plt.figure(figsize=(14,4))\n",
    "\n",
    "plt.subplot(1,2,1)\n",
    "values = np.array(model_lenta.score_tracker['perplexity'].value)\n",
    "med = np.median(values)\n",
    "values[values > 5 * med] = np.nan\n",
    "\n",
    "plt.title('Perplexity with regularizer')\n",
    "plt.plot(values)\n",
    "\n",
    "plt.subplot(1,2,2)\n",
    "values = np.array(model_lenta_unbalanced.score_tracker['perplexity'].value)\n",
    "med = np.median(values)\n",
    "values[values > 5 * med] = np.nan\n",
    "\n",
    "plt.title('Perplexity without regularizer')\n",
    "plt.plot(values)"
   ]
  },
  {
   "cell_type": "markdown",
   "metadata": {},
   "source": [
    "### Train many models"
   ]
  },
  {
   "cell_type": "code",
   "execution_count": 5,
   "metadata": {},
   "outputs": [],
   "source": [
    "def train_model_with_heterogenity(dictionary, batch_vectorizer, tau, num_topics=22):\n",
    "    model = artm.ARTM(num_topics, cache_theta=True)\n",
    "    model.scores.add(artm.scores.PerplexityScore(name='perplexity'))\n",
    "    model.initialize(dictionary)\n",
    "\n",
    "    statistics = ModelStatistics(model)\n",
    "    custom_regularizers = [\n",
    "        SemanticHeterogenityRegularizer('heterogenity', tau, statistics, batch_vectorizer)\n",
    "    ]\n",
    "\n",
    "    custom_fit_offline(model, custom_regularizers, batch_vectorizer, 15)\n",
    "\n",
    "    return model, statistics"
   ]
  },
  {
   "cell_type": "code",
   "execution_count": null,
   "metadata": {},
   "outputs": [],
   "source": [
    "all_possible_taus = [10, 1, 0.1, 0.01, 0.001, 0.0001, 0.00001]\n",
    "\n",
    "model_statistics_time = {}\n",
    "for tau in all_possible_taus:\n",
    "    start_time = time.time()\n",
    "    model, statistics = train_model_with_heterogenity(dictionary_lenta, batch_vectorizer_lenta, tau, 8)\n",
    "    end_time = time.time()\n",
    "\n",
    "    model_statistics_time[tau] = (model, statistics, end_time - start_time)\n",
    "\n",
    "    print(f'Consumed time for tau {tau}: {end_time - start_time}.')"
   ]
  },
  {
   "cell_type": "markdown",
   "metadata": {},
   "source": [
    "---"
   ]
  },
  {
   "cell_type": "code",
   "execution_count": null,
   "metadata": {},
   "outputs": [],
   "source": [
    "topic_stat = {}\n",
    "for tau, mod_stat_time in model_statistics_time.items():\n",
    "    topic_stat[tau] = mod_stat_time[1].calculate_topic_statistics(batch_vectorizer_lenta)"
   ]
  },
  {
   "cell_type": "code",
   "execution_count": null,
   "metadata": {},
   "outputs": [],
   "source": [
    "plt.rc('font', size=25)\n",
    "colors = ['crimson', 'mediumpurple', 'steelblue', 'forestgreen', 'khaki', 'orange', 'salmon']\n",
    "titles = [\n",
    "    'Семантическая неоднородность от n_t',\n",
    "    'Бинарная семантическая неоднородность от n_t',\n",
    "    'Семантическая неоднородность с бинарной функцией потерь от n_t',\n",
    "    'Бинарная семантическая неоднородность с бинарной функцией потерь от n_t',\n",
    "    'Семантическая загрязнённость от n_t',\n",
    "    'Бинарная семантическая загрязнённость от n_t',\n",
    "    'Семантическая загрязнённость с бинарной функцией потерь от n_t',\n",
    "    'Бинарная семантическая загрязнённость с бинарной функцией потерь от n_t'\n",
    "]\n",
    "\n",
    "num_subplots = len(topic_stat)\n",
    "num_statistics = len(titles)"
   ]
  },
  {
   "cell_type": "code",
   "execution_count": null,
   "metadata": {},
   "outputs": [],
   "source": [
    "fig = plt.figure(figsize=(128,64))\n",
    "\n",
    "for ind, (tau, stat) in enumerate(topic_stat.items()):\n",
    "    for i in range(num_statistics):\n",
    "        plt.subplot(num_subplots, num_statistics, ind * num_statistics + 1 + i)\n",
    "        plt.scatter(model_statistics_time[tau][1].nt, stat[i], c=colors[ind])\n",
    "\n",
    "        plt.xlabel('n_t')\n",
    "        plt.ylabel(f'tau={tau}')\n",
    "\n",
    "        if not ind:\n",
    "            plt.title(titles[i])\n",
    "\n",
    "        if i:\n",
    "            plt.ylim(-0.05, 1.05)\n",
    "        else:\n",
    "            plt.ylim(-0.05, max(stat[0]) + 0.1)\n",
    "\n",
    "fig.tight_layout()\n",
    "plt.savefig('statistics_8.png')"
   ]
  },
  {
   "cell_type": "markdown",
   "metadata": {},
   "source": [
    "### Train many more models"
   ]
  },
  {
   "cell_type": "code",
   "execution_count": null,
   "metadata": {},
   "outputs": [],
   "source": [
    "del topic_stat\n",
    "del model_statistics_time\n",
    "\n",
    "import rc\n",
    "rc.collect()"
   ]
  },
  {
   "cell_type": "code",
   "execution_count": null,
   "metadata": {},
   "outputs": [],
   "source": [
    "all_possible_taus = [10, 1, 0.1, 0.01, 0.001, 0.0001, 0.00001]\n",
    "\n",
    "model_statistics_time = {}\n",
    "for tau in all_possible_taus:\n",
    "    start_time = time.time()\n",
    "    model, statistics = train_model_with_heterogenity(dictionary_lenta, batch_vectorizer_lenta, tau, 75)\n",
    "    end_time = time.time()\n",
    "\n",
    "    model_statistics_time[tau] = (model, statistics, end_time - start_time)\n",
    "\n",
    "    print(f'Consumed time for tau {tau}: {end_time - start_time}.')"
   ]
  },
  {
   "cell_type": "markdown",
   "metadata": {},
   "source": [
    "---"
   ]
  },
  {
   "cell_type": "code",
   "execution_count": null,
   "metadata": {},
   "outputs": [],
   "source": [
    "topic_stat = {}\n",
    "for tau, mod_stat_time in model_statistics_time.items():\n",
    "    topic_stat[tau] = mod_stat_time[1].calculate_topic_statistics(batch_vectorizer_lenta)"
   ]
  },
  {
   "cell_type": "code",
   "execution_count": null,
   "metadata": {},
   "outputs": [],
   "source": [
    "plt.rc('font', size=25)\n",
    "colors = ['crimson', 'mediumpurple', 'steelblue', 'forestgreen', 'khaki', 'orange', 'salmon']\n",
    "titles = [\n",
    "    'Семантическая неоднородность от n_t',\n",
    "    'Бинарная семантическая неоднородность от n_t',\n",
    "    'Семантическая неоднородность с бинарной функцией потерь от n_t',\n",
    "    'Бинарная семантическая неоднородность с бинарной функцией потерь от n_t',\n",
    "    'Семантическая загрязнённость от n_t',\n",
    "    'Бинарная семантическая загрязнённость от n_t',\n",
    "    'Семантическая загрязнённость с бинарной функцией потерь от n_t',\n",
    "    'Бинарная семантическая загрязнённость с бинарной функцией потерь от n_t'\n",
    "]\n",
    "\n",
    "num_subplots = len(topic_stat)\n",
    "num_statistics = len(titles)"
   ]
  },
  {
   "cell_type": "code",
   "execution_count": null,
   "metadata": {},
   "outputs": [],
   "source": [
    "fig = plt.figure(figsize=(128,64))\n",
    "\n",
    "for ind, (tau, stat) in enumerate(topic_stat.items()):\n",
    "    for i in range(num_statistics):\n",
    "        plt.subplot(num_subplots, num_statistics, ind * num_statistics + 1 + i)\n",
    "        plt.scatter(model_statistics_time[tau][1].nt, stat[i], c=colors[ind])\n",
    "\n",
    "        plt.xlabel('n_t')\n",
    "        plt.ylabel(f'tau={tau}')\n",
    "\n",
    "        if not ind:\n",
    "            plt.title(titles[i])\n",
    "\n",
    "        if i:\n",
    "            plt.ylim(-0.05, 1.05)\n",
    "        else:\n",
    "            plt.ylim(-0.05, max(stat[0]) + 0.1)\n",
    "\n",
    "fig.tight_layout()\n",
    "plt.savefig('statistics_75.png')"
   ]
  },
  {
   "cell_type": "markdown",
   "metadata": {},
   "source": [
    "## Plot MIL datasets"
   ]
  },
  {
   "cell_type": "code",
   "execution_count": 7,
   "metadata": {},
   "outputs": [
    {
     "data": {
      "text/plain": [
       "341"
      ]
     },
     "execution_count": 7,
     "metadata": {},
     "output_type": "execute_result"
    }
   ],
   "source": [
    "import gc\n",
    "\n",
    "gc.collect()"
   ]
  },
  {
   "cell_type": "code",
   "execution_count": null,
   "metadata": {},
   "outputs": [],
   "source": []
  },
  {
   "cell_type": "code",
   "execution_count": null,
   "metadata": {},
   "outputs": [],
   "source": []
  },
  {
   "cell_type": "code",
   "execution_count": null,
   "metadata": {},
   "outputs": [],
   "source": []
  }
 ],
 "metadata": {
  "kernelspec": {
   "display_name": "Python 3",
   "language": "python",
   "name": "python3"
  },
  "language_info": {
   "codemirror_mode": {
    "name": "ipython",
    "version": 3
   },
   "file_extension": ".py",
   "mimetype": "text/x-python",
   "name": "python",
   "nbconvert_exporter": "python",
   "pygments_lexer": "ipython3",
   "version": "3.6.8"
  }
 },
 "nbformat": 4,
 "nbformat_minor": 2
}
