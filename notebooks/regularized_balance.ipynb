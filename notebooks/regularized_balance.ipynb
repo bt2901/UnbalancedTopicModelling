{
 "cells": [
  {
   "cell_type": "code",
   "execution_count": 1,
   "metadata": {},
   "outputs": [],
   "source": [
    "import artm\n",
    "\n",
    "import numpy as np\n",
    "import pandas as pd\n",
    "from matplotlib import pyplot as plt\n",
    "\n",
    "import os\n",
    "import sys\n",
    "sys.path.append('..')\n",
    "sys.path.append('../..')\n",
    "\n",
    "from library import TopicPriorRegularizer, SemanticHeterogenityRegularizer, custom_fit_offline\n",
    "from library import ModelStatistics"
   ]
  },
  {
   "cell_type": "code",
   "execution_count": 2,
   "metadata": {},
   "outputs": [],
   "source": [
    "DATA_PATH = '../data/lenta_1000_100.vw'\n",
    "BATCH_PATH = '../data/lenta_1000_100_batches'\n",
    "DICT_PATH = '../data/lenta_1000_100.dict'\n",
    "\n",
    "batch_vectorizer_lenta = artm.BatchVectorizer(\n",
    "    data_path=DATA_PATH,\n",
    "    data_format='vowpal_wabbit', \n",
    "    target_folder=BATCH_PATH\n",
    ")\n",
    "\n",
    "dictionary_lenta = artm.Dictionary()\n",
    "if not os.path.isfile(DICT_PATH):\n",
    "    dictionary_lenta.gather(data_path=batch_vectorizer_lenta.data_path)\n",
    "    dictionary_lenta.save(DICT_PATH)\n",
    "dictionary_lenta.load(DICT_PATH)"
   ]
  },
  {
   "cell_type": "markdown",
   "metadata": {},
   "source": [
    "## Topic prior regularizer"
   ]
  },
  {
   "cell_type": "code",
   "execution_count": 3,
   "metadata": {},
   "outputs": [],
   "source": [
    "model_lenta = artm.ARTM(num_topics=2, cache_theta=True)\n",
    "model_lenta.scores.add(artm.scores.PerplexityScore(name='perplexity'))\n",
    "model_lenta.initialize(dictionary_lenta)\n",
    "\n",
    "custom_regularizers = [\n",
    "    TopicPriorRegularizer('topic_prior', 2, beta=[0.1, 0.9])\n",
    "]\n",
    "\n",
    "custom_fit_offline(model_lenta, custom_regularizers, batch_vectorizer_lenta, 10)"
   ]
  },
  {
   "cell_type": "code",
   "execution_count": 4,
   "metadata": {},
   "outputs": [],
   "source": [
    "model_lenta_unbalanced = artm.ARTM(num_topics=2, cache_theta=True)\n",
    "model_lenta_unbalanced.scores.add(artm.scores.PerplexityScore(name='perplexity'))\n",
    "model_lenta_unbalanced.initialize(dictionary_lenta)\n",
    "\n",
    "model_lenta_unbalanced.fit_offline(batch_vectorizer_lenta, 10)"
   ]
  },
  {
   "cell_type": "code",
   "execution_count": 5,
   "metadata": {},
   "outputs": [
    {
     "data": {
      "text/plain": [
       "[<matplotlib.lines.Line2D at 0x7f8f8fc246d8>]"
      ]
     },
     "execution_count": 5,
     "metadata": {},
     "output_type": "execute_result"
    },
    {
     "data": {
      "image/png": "[encoded data removed]",
      "text/plain": [
       "<Figure size 1008x288 with 2 Axes>"
      ]
     },
     "metadata": {},
     "output_type": "display_data"
    }
   ],
   "source": [
    "plt.figure(figsize=(14,4))\n",
    "\n",
    "plt.subplot(1,2,1)\n",
    "values = np.array(model_lenta.score_tracker['perplexity'].value)\n",
    "med = np.median(values)\n",
    "values[values > 5 * med] = np.nan\n",
    "\n",
    "plt.title('Perplexity with regularizer')\n",
    "plt.plot(values)\n",
    "\n",
    "plt.subplot(1,2,2)\n",
    "values = np.array(model_lenta_unbalanced.score_tracker['perplexity'].value)\n",
    "med = np.median(values)\n",
    "values[values > 5 * med] = np.nan\n",
    "\n",
    "plt.title('Perplexity without regularizer')\n",
    "plt.plot(values)"
   ]
  },
  {
   "cell_type": "markdown",
   "metadata": {},
   "source": [
    "## Semantic heterogenity regularizer"
   ]
  },
  {
   "cell_type": "code",
   "execution_count": 6,
   "metadata": {},
   "outputs": [],
   "source": [
    "model_lenta = artm.ARTM(num_topics=2, cache_theta=True)\n",
    "model_lenta.scores.add(artm.scores.PerplexityScore(name='perplexity'))\n",
    "model_lenta.initialize(dictionary_lenta)\n",
    "\n",
    "statistics = ModelStatistics(model_lenta)\n",
    "custom_regularizers = [\n",
    "    SemanticHeterogenityRegularizer('heterogenity', 0.05, statistics, batch_vectorizer_lenta)\n",
    "]\n",
    "\n",
    "custom_fit_offline(model_lenta, custom_regularizers, batch_vectorizer_lenta, 10)"
   ]
  },
  {
   "cell_type": "code",
   "execution_count": null,
   "metadata": {},
   "outputs": [],
   "source": [
    "model_lenta_unbalanced = artm.ARTM(num_topics=2, cache_theta=True)\n",
    "model_lenta_unbalanced.scores.add(artm.scores.PerplexityScore(name='perplexity'))\n",
    "model_lenta_unbalanced.initialize(dictionary_lenta)\n",
    "\n",
    "model_lenta_unbalanced.fit_offline(batch_vectorizer_lenta, 10)"
   ]
  },
  {
   "cell_type": "code",
   "execution_count": null,
   "metadata": {},
   "outputs": [],
   "source": [
    "plt.figure(figsize=(14,4))\n",
    "\n",
    "plt.subplot(1,2,1)\n",
    "values = np.array(model_lenta.score_tracker['perplexity'].value)\n",
    "med = np.median(values)\n",
    "values[values > 5 * med] = np.nan\n",
    "\n",
    "plt.title('Perplexity with regularizer')\n",
    "plt.plot(values)\n",
    "\n",
    "plt.subplot(1,2,2)\n",
    "values = np.array(model_lenta_unbalanced.score_tracker['perplexity'].value)\n",
    "med = np.median(values)\n",
    "values[values > 5 * med] = np.nan\n",
    "\n",
    "plt.title('Perplexity without regularizer')\n",
    "plt.plot(values)"
   ]
  },
  {
   "cell_type": "code",
   "execution_count": null,
   "metadata": {},
   "outputs": [],
   "source": []
  }
 ],
 "metadata": {
  "kernelspec": {
   "display_name": "Python 3",
   "language": "python",
   "name": "python3"
  },
  "language_info": {
   "codemirror_mode": {
    "name": "ipython",
    "version": 3
   },
   "file_extension": ".py",
   "mimetype": "text/x-python",
   "name": "python",
   "nbconvert_exporter": "python",
   "pygments_lexer": "ipython3",
   "version": "3.6.8"
  }
 },
 "nbformat": 4,
 "nbformat_minor": 2
}
