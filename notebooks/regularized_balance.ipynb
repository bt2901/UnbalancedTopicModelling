{
 "cells": [
  {
   "cell_type": "code",
   "execution_count": 1,
   "metadata": {},
   "outputs": [],
   "source": [
    "import artm\n",
    "\n",
    "import numpy as np\n",
    "import pandas as pd\n",
    "from matplotlib import pyplot as plt\n",
    "\n",
    "import os\n",
    "import sys\n",
    "sys.path.append('..')\n",
    "sys.path.append('../..')\n",
    "\n",
    "from library import TopicPriorRegularizer, SemanticHeterogenityRegularizer, custom_fit_offline\n",
    "from library import ModelStatistics, BleiTopTokens"
   ]
  },
  {
   "cell_type": "code",
   "execution_count": 2,
   "metadata": {},
   "outputs": [],
   "source": [
    "DATA_PATH = '../data/lenta_1000_100.vw'\n",
    "BATCH_PATH = '../data/lenta_1000_100_batches'\n",
    "DICT_PATH = '../data/lenta_1000_100.dict'\n",
    "\n",
    "batch_vectorizer_lenta = artm.BatchVectorizer(\n",
    "    data_path=DATA_PATH,\n",
    "    data_format='vowpal_wabbit', \n",
    "    target_folder=BATCH_PATH\n",
    ")\n",
    "\n",
    "dictionary_lenta = artm.Dictionary()\n",
    "if not os.path.isfile(DICT_PATH):\n",
    "    dictionary_lenta.gather(data_path=batch_vectorizer_lenta.data_path)\n",
    "    dictionary_lenta.save(DICT_PATH)\n",
    "dictionary_lenta.load(DICT_PATH)"
   ]
  },
  {
   "cell_type": "markdown",
   "metadata": {},
   "source": [
    "## Topic prior regularizer"
   ]
  },
  {
   "cell_type": "code",
   "execution_count": 3,
   "metadata": {},
   "outputs": [],
   "source": [
    "model_lenta = artm.ARTM(num_topics=2, cache_theta=True)\n",
    "model_lenta.scores.add(artm.scores.PerplexityScore(name='perplexity'))\n",
    "model_lenta.initialize(dictionary_lenta)\n",
    "\n",
    "custom_regularizers = [\n",
    "    TopicPriorRegularizer('topic_prior', 2, beta=[0.1, 0.9])\n",
    "]\n",
    "\n",
    "custom_fit_offline(model_lenta, custom_regularizers, batch_vectorizer_lenta, 10)"
   ]
  },
  {
   "cell_type": "code",
   "execution_count": 4,
   "metadata": {},
   "outputs": [],
   "source": [
    "model_lenta_unbalanced = artm.ARTM(num_topics=2, cache_theta=True)\n",
    "model_lenta_unbalanced.scores.add(artm.scores.PerplexityScore(name='perplexity'))\n",
    "model_lenta_unbalanced.initialize(dictionary_lenta)\n",
    "\n",
    "model_lenta_unbalanced.fit_offline(batch_vectorizer_lenta, 10)"
   ]
  },
  {
   "cell_type": "code",
   "execution_count": 5,
   "metadata": {},
   "outputs": [
    {
     "data": {
      "text/plain": [
       "[<matplotlib.lines.Line2D at 0x7f647da30fd0>]"
      ]
     },
     "execution_count": 5,
     "metadata": {},
     "output_type": "execute_result"
    },
    {
     "data": {
      "image/png": "[encoded data removed]",
      "text/plain": [
       "<Figure size 1008x288 with 2 Axes>"
      ]
     },
     "metadata": {
      "needs_background": "light"
     },
     "output_type": "display_data"
    }
   ],
   "source": [
    "plt.figure(figsize=(14,4))\n",
    "\n",
    "plt.subplot(1,2,1)\n",
    "values = np.array(model_lenta.score_tracker['perplexity'].value)\n",
    "med = np.median(values)\n",
    "values[values > 5 * med] = np.nan\n",
    "\n",
    "plt.title('Perplexity with regularizer')\n",
    "plt.plot(values)\n",
    "\n",
    "plt.subplot(1,2,2)\n",
    "values = np.array(model_lenta_unbalanced.score_tracker['perplexity'].value)\n",
    "med = np.median(values)\n",
    "values[values > 5 * med] = np.nan\n",
    "\n",
    "plt.title('Perplexity without regularizer')\n",
    "plt.plot(values)"
   ]
  },
  {
   "cell_type": "code",
   "execution_count": 6,
   "metadata": {},
   "outputs": [
    {
     "data": {
      "text/plain": [
       "{'topic_0': {'values': array([0.7944808 , 0.28397793, 0.21742373, 0.17719276, 0.14399273,\n",
       "         0.11597186, 0.10600322, 0.10256787, 0.08815011, 0.07749353,\n",
       "         0.05736777, 0.05456609, 0.04360125, 0.04205048, 0.04097373,\n",
       "         0.03755339, 0.03733914, 0.03719835, 0.03650766, 0.02841116]),\n",
       "  'tokens': [('text', '.'),\n",
       "   ('ngramms', '<person>_<person>'),\n",
       "   ('text', '<person>'),\n",
       "   ('ngramms', 'миллиард_рубль'),\n",
       "   ('text', 'год'),\n",
       "   ('text', 'компания'),\n",
       "   ('text', 'что'),\n",
       "   ('ngramms', 'миллиард_доллар'),\n",
       "   ('text', 'В'),\n",
       "   ('text', 'быть'),\n",
       "   ('ngramms', 'миллион_доллар'),\n",
       "   ('text', 'процент'),\n",
       "   ('text', 'миллиард'),\n",
       "   ('ngramms', 'процент_акция'),\n",
       "   ('ngramms', 'пресс_релиз'),\n",
       "   ('text', 'рубль'),\n",
       "   ('text', 'россия'),\n",
       "   ('text', 'российский'),\n",
       "   ('ngramms', 'миллион_рубль'),\n",
       "   ('text', 'миллион')]},\n",
       " 'topic_1': {'values': array([0.05365356, 0.01620834, 0.00564939, 0.00526364, 0.00443376,\n",
       "         0.00379147, 0.00355573, 0.00271659, 0.00271648, 0.00269748,\n",
       "         0.00258132, 0.00234662, 0.00232429, 0.00225643, 0.00222686,\n",
       "         0.00220931, 0.00215511, 0.00211886, 0.00210603, 0.00209566]),\n",
       "  'tokens': [('text', '<person>'),\n",
       "   ('text', '.'),\n",
       "   ('text', 'группа'),\n",
       "   ('text', 'альбом'),\n",
       "   ('text', 'музыкант'),\n",
       "   ('text', 'певица'),\n",
       "   ('text', 'песня'),\n",
       "   ('text', 'концерт'),\n",
       "   ('text', 'музыкальный'),\n",
       "   ('text', 'конкурс'),\n",
       "   ('ngramms', 'рок_группа'),\n",
       "   ('text', 'город'),\n",
       "   ('text', 'выпустить'),\n",
       "   ('text', 'где'),\n",
       "   ('text', 'американский'),\n",
       "   ('text', 'фестиваль'),\n",
       "   ('text', 'стать'),\n",
       "   ('text', 'участник'),\n",
       "   ('ngramms', 'студийный_альбом'),\n",
       "   ('ngramms', 'лидер_группа')]}}"
      ]
     },
     "execution_count": 6,
     "metadata": {},
     "output_type": "execute_result"
    }
   ],
   "source": [
    "top_tokens = BleiTopTokens(num_top_tokens=20).view(model_lenta.get_phi())\n",
    "\n",
    "top_tokens"
   ]
  },
  {
   "cell_type": "code",
   "execution_count": 7,
   "metadata": {},
   "outputs": [
    {
     "data": {
      "text/plain": [
       "{'topic_0': {'values': array([1.49591932, 0.63121543, 0.43788475, 0.38205045, 0.35586638,\n",
       "         0.3338151 , 0.29998855, 0.20755139, 0.20057104, 0.19554947,\n",
       "         0.19035631, 0.16812195, 0.15359521, 0.15203565, 0.13620949,\n",
       "         0.10457361, 0.09753865, 0.09131999, 0.08434176, 0.08196134]),\n",
       "  'tokens': [('text', '.'),\n",
       "   ('ngramms', 'миллиард_рубль'),\n",
       "   ('ngramms', '<person>_<person>'),\n",
       "   ('text', '<person>'),\n",
       "   ('text', 'год'),\n",
       "   ('ngramms', 'миллиард_доллар'),\n",
       "   ('text', 'компания'),\n",
       "   ('text', 'что'),\n",
       "   ('text', 'процент'),\n",
       "   ('ngramms', 'миллион_доллар'),\n",
       "   ('text', 'В'),\n",
       "   ('ngramms', 'процент_акция'),\n",
       "   ('text', 'быть'),\n",
       "   ('text', 'миллиард'),\n",
       "   ('text', 'рубль'),\n",
       "   ('ngramms', 'миллион_рубль'),\n",
       "   ('ngramms', 'пресс_релиз'),\n",
       "   ('text', 'доллар'),\n",
       "   ('text', 'миллион'),\n",
       "   ('text', 'акция')]},\n",
       " 'topic_1': {'values': array([1.29120554, 0.70799959, 0.55359932, 0.21605713, 0.18402898,\n",
       "         0.16509006, 0.16181467, 0.13672649, 0.08754144, 0.08249693,\n",
       "         0.07979811, 0.07085093, 0.06449781, 0.06260733, 0.06256017,\n",
       "         0.05991222, 0.0593308 , 0.05895384, 0.05706392, 0.05682607]),\n",
       "  'tokens': [('text', '.'),\n",
       "   ('ngramms', '<person>_<person>'),\n",
       "   ('text', '<person>'),\n",
       "   ('text', 'что'),\n",
       "   ('text', 'год'),\n",
       "   ('text', 'быть'),\n",
       "   ('text', 'В'),\n",
       "   ('text', 'компания'),\n",
       "   ('text', 'российский'),\n",
       "   ('ngramms', 'пресс_релиз'),\n",
       "   ('text', 'россия'),\n",
       "   ('ngramms', 'миллиард_кубометр'),\n",
       "   ('text', 'газпром'),\n",
       "   ('ngramms', 'пресс_служба'),\n",
       "   ('text', 'как'),\n",
       "   ('ngramms', 'российский_компания'),\n",
       "   ('ngramms', 'тысяча_рубль'),\n",
       "   ('ngramms', 'турецкий_поток'),\n",
       "   ('ngramms', 'миллиард_доллар'),\n",
       "   ('text', 'авиакомпания')]}}"
      ]
     },
     "execution_count": 7,
     "metadata": {},
     "output_type": "execute_result"
    }
   ],
   "source": [
    "unbalanced_top_tokens = BleiTopTokens(num_top_tokens=20).view(model_lenta_unbalanced.get_phi())\n",
    "\n",
    "unbalanced_top_tokens"
   ]
  },
  {
   "cell_type": "markdown",
   "metadata": {},
   "source": [
    "## Semantic heterogenity regularizer ($\\tau$=0.1)"
   ]
  },
  {
   "cell_type": "code",
   "execution_count": 9,
   "metadata": {},
   "outputs": [],
   "source": [
    "model_lenta = artm.ARTM(num_topics=2, cache_theta=True)\n",
    "model_lenta.scores.add(artm.scores.PerplexityScore(name='perplexity'))\n",
    "model_lenta.initialize(dictionary_lenta)\n",
    "\n",
    "model_lenta.regularizers.add(artm.DecorrelatorPhiRegularizer(name='decorrelator_phi'))\n",
    "model_lenta.regularizers['decorrelator_phi'].tau = 1e+5\n",
    "\n",
    "statistics = ModelStatistics(model_lenta)\n",
    "custom_regularizers = [\n",
    "    SemanticHeterogenityRegularizer('heterogenity', 0.1, statistics, batch_vectorizer_lenta)\n",
    "]\n",
    "\n",
    "custom_fit_offline(model_lenta, custom_regularizers, batch_vectorizer_lenta, 20)"
   ]
  },
  {
   "cell_type": "code",
   "execution_count": 10,
   "metadata": {},
   "outputs": [],
   "source": [
    "model_lenta_unbalanced = artm.ARTM(num_topics=2, cache_theta=True)\n",
    "model_lenta_unbalanced.scores.add(artm.scores.PerplexityScore(name='perplexity'))\n",
    "model_lenta_unbalanced.initialize(dictionary_lenta)\n",
    "\n",
    "model_lenta_unbalanced.fit_offline(batch_vectorizer_lenta, 20)"
   ]
  },
  {
   "cell_type": "code",
   "execution_count": 11,
   "metadata": {},
   "outputs": [
    {
     "data": {
      "text/plain": [
       "[<matplotlib.lines.Line2D at 0x7fb13f30a550>]"
      ]
     },
     "execution_count": 11,
     "metadata": {},
     "output_type": "execute_result"
    },
    {
     "data": {
      "image/png": "[encoded data removed]",
      "text/plain": [
       "<Figure size 1008x288 with 2 Axes>"
      ]
     },
     "metadata": {
      "needs_background": "light"
     },
     "output_type": "display_data"
    }
   ],
   "source": [
    "plt.figure(figsize=(14,4))\n",
    "\n",
    "plt.subplot(1,2,1)\n",
    "values = np.array(model_lenta.score_tracker['perplexity'].value)\n",
    "med = np.median(values)\n",
    "values[values > 5 * med] = np.nan\n",
    "\n",
    "plt.title('Perplexity with regularizer')\n",
    "plt.plot(values)\n",
    "\n",
    "plt.subplot(1,2,2)\n",
    "values = np.array(model_lenta_unbalanced.score_tracker['perplexity'].value)\n",
    "med = np.median(values)\n",
    "values[values > 5 * med] = np.nan\n",
    "\n",
    "plt.title('Perplexity without regularizer')\n",
    "plt.plot(values)"
   ]
  },
  {
   "cell_type": "code",
   "execution_count": 12,
   "metadata": {},
   "outputs": [
    {
     "data": {
      "text/plain": [
       "{'topic_0': {'values': array([0.72878566, 0.26139159, 0.2330265 , 0.20281316, 0.15948656,\n",
       "         0.14669844, 0.14262654, 0.09925126, 0.08701512, 0.08197485,\n",
       "         0.07777224, 0.07293594, 0.06990297, 0.06153877, 0.05257548,\n",
       "         0.0446184 , 0.03895019, 0.03866673, 0.03717664, 0.03655097]),\n",
       "  'tokens': [('text', '.'),\n",
       "   ('ngramms', 'миллиард_рубль'),\n",
       "   ('ngramms', '<person>_<person>'),\n",
       "   ('text', '<person>'),\n",
       "   ('text', 'год'),\n",
       "   ('ngramms', 'миллиард_доллар'),\n",
       "   ('text', 'компания'),\n",
       "   ('text', 'что'),\n",
       "   ('text', 'В'),\n",
       "   ('text', 'процент'),\n",
       "   ('ngramms', 'миллион_доллар'),\n",
       "   ('ngramms', 'процент_акция'),\n",
       "   ('text', 'быть'),\n",
       "   ('text', 'миллиард'),\n",
       "   ('text', 'рубль'),\n",
       "   ('ngramms', 'пресс_релиз'),\n",
       "   ('text', 'доллар'),\n",
       "   ('text', 'россия'),\n",
       "   ('ngramms', 'миллион_рубль'),\n",
       "   ('text', 'миллион')]},\n",
       " 'topic_1': {'values': array([0.69796014, 0.34974161, 0.28569546, 0.10850798, 0.10357183,\n",
       "         0.08253356, 0.08165162, 0.06768925, 0.03938825, 0.0383863 ,\n",
       "         0.03828666, 0.03800824, 0.0338811 , 0.03056824, 0.02983304,\n",
       "         0.02825874, 0.02800736, 0.02551694, 0.02433212, 0.02276296]),\n",
       "  'tokens': [('text', '.'),\n",
       "   ('ngramms', '<person>_<person>'),\n",
       "   ('text', '<person>'),\n",
       "   ('text', 'что'),\n",
       "   ('text', 'год'),\n",
       "   ('text', 'быть'),\n",
       "   ('text', 'В'),\n",
       "   ('text', 'компания'),\n",
       "   ('ngramms', 'миллиард_рубль'),\n",
       "   ('ngramms', 'миллион_рубль'),\n",
       "   ('ngramms', 'пресс_релиз'),\n",
       "   ('text', 'российский'),\n",
       "   ('text', 'россия'),\n",
       "   ('ngramms', 'турецкий_поток'),\n",
       "   ('ngramms', 'пресс_служба'),\n",
       "   ('text', 'как'),\n",
       "   ('ngramms', 'миллиард_доллар'),\n",
       "   ('text', 'авиакомпания'),\n",
       "   ('ngramms', 'миллиард_кубометр'),\n",
       "   ('ngramms', 'санкт_петербург')]}}"
      ]
     },
     "execution_count": 12,
     "metadata": {},
     "output_type": "execute_result"
    }
   ],
   "source": [
    "top_tokens = BleiTopTokens(num_top_tokens=20).view(model_lenta.get_phi())\n",
    "\n",
    "top_tokens"
   ]
  },
  {
   "cell_type": "code",
   "execution_count": 13,
   "metadata": {},
   "outputs": [
    {
     "data": {
      "text/plain": [
       "{'topic_0': {'values': array([2.46787277, 1.10122369, 0.7723664 , 0.67555943, 0.62324203,\n",
       "         0.60307046, 0.54181047, 0.36335175, 0.36157159, 0.34730479,\n",
       "         0.33622768, 0.30298944, 0.27424274, 0.26707752, 0.25052534,\n",
       "         0.19743877, 0.176278  , 0.1761418 , 0.16480999, 0.15100118]),\n",
       "  'tokens': [('text', '.'),\n",
       "   ('ngramms', 'миллиард_рубль'),\n",
       "   ('ngramms', '<person>_<person>'),\n",
       "   ('text', '<person>'),\n",
       "   ('text', 'год'),\n",
       "   ('ngramms', 'миллиард_доллар'),\n",
       "   ('text', 'компания'),\n",
       "   ('text', 'процент'),\n",
       "   ('text', 'что'),\n",
       "   ('ngramms', 'миллион_доллар'),\n",
       "   ('text', 'В'),\n",
       "   ('ngramms', 'процент_акция'),\n",
       "   ('text', 'миллиард'),\n",
       "   ('text', 'быть'),\n",
       "   ('text', 'рубль'),\n",
       "   ('ngramms', 'миллион_рубль'),\n",
       "   ('ngramms', 'пресс_релиз'),\n",
       "   ('text', 'доллар'),\n",
       "   ('text', 'миллион'),\n",
       "   ('text', 'россия')]},\n",
       " 'topic_1': {'values': array([2.40812136, 1.27925117, 1.00641589, 0.41779632, 0.35119981,\n",
       "         0.32521336, 0.31242251, 0.24542891, 0.16982708, 0.16168029,\n",
       "         0.14827751, 0.13270849, 0.12863088, 0.1269776 , 0.12590399,\n",
       "         0.12188686, 0.11647986, 0.11410423, 0.11280019, 0.10338255]),\n",
       "  'tokens': [('text', '.'),\n",
       "   ('ngramms', '<person>_<person>'),\n",
       "   ('text', '<person>'),\n",
       "   ('text', 'что'),\n",
       "   ('text', 'год'),\n",
       "   ('text', 'быть'),\n",
       "   ('text', 'В'),\n",
       "   ('text', 'компания'),\n",
       "   ('text', 'российский'),\n",
       "   ('ngramms', 'пресс_релиз'),\n",
       "   ('text', 'россия'),\n",
       "   ('ngramms', 'миллиард_кубометр'),\n",
       "   ('ngramms', 'пресс_служба'),\n",
       "   ('text', 'как'),\n",
       "   ('text', 'газпром'),\n",
       "   ('text', 'авиакомпания'),\n",
       "   ('ngramms', 'турецкий_поток'),\n",
       "   ('ngramms', 'российский_компания'),\n",
       "   ('ngramms', 'тысяча_рубль'),\n",
       "   ('ngramms', 'санкт_петербург')]}}"
      ]
     },
     "execution_count": 13,
     "metadata": {},
     "output_type": "execute_result"
    }
   ],
   "source": [
    "unbalanced_top_tokens = BleiTopTokens(num_top_tokens=20).view(model_lenta_unbalanced.get_phi())\n",
    "\n",
    "unbalanced_top_tokens"
   ]
  },
  {
   "cell_type": "markdown",
   "metadata": {},
   "source": [
    "## Semantic heterogenity regularizer ($\\tau$=1)"
   ]
  },
  {
   "cell_type": "code",
   "execution_count": 13,
   "metadata": {},
   "outputs": [],
   "source": [
    "model_lenta = artm.ARTM(num_topics=2, cache_theta=True)\n",
    "model_lenta.scores.add(artm.scores.PerplexityScore(name='perplexity'))\n",
    "model_lenta.initialize(dictionary_lenta)\n",
    "\n",
    "statistics = ModelStatistics(model_lenta)\n",
    "custom_regularizers = [\n",
    "    SemanticHeterogenityRegularizer('heterogenity', 1, statistics, batch_vectorizer_lenta)\n",
    "]\n",
    "\n",
    "custom_fit_offline(model_lenta, custom_regularizers, batch_vectorizer_lenta, 10)"
   ]
  },
  {
   "cell_type": "code",
   "execution_count": 14,
   "metadata": {},
   "outputs": [],
   "source": [
    "model_lenta_unbalanced = artm.ARTM(num_topics=2, cache_theta=True)\n",
    "model_lenta_unbalanced.scores.add(artm.scores.PerplexityScore(name='perplexity'))\n",
    "model_lenta_unbalanced.initialize(dictionary_lenta)\n",
    "\n",
    "model_lenta_unbalanced.fit_offline(batch_vectorizer_lenta, 10)"
   ]
  },
  {
   "cell_type": "code",
   "execution_count": 15,
   "metadata": {},
   "outputs": [
    {
     "data": {
      "text/plain": [
       "[<matplotlib.lines.Line2D at 0x7f63fc3f28d0>]"
      ]
     },
     "execution_count": 15,
     "metadata": {},
     "output_type": "execute_result"
    },
    {
     "data": {
      "image/png": "[encoded data removed]",
      "text/plain": [
       "<Figure size 1008x288 with 2 Axes>"
      ]
     },
     "metadata": {
      "needs_background": "light"
     },
     "output_type": "display_data"
    }
   ],
   "source": [
    "plt.figure(figsize=(14,4))\n",
    "\n",
    "plt.subplot(1,2,1)\n",
    "values = np.array(model_lenta.score_tracker['perplexity'].value)\n",
    "med = np.median(values)\n",
    "values[values > 5 * med] = np.nan\n",
    "\n",
    "plt.title('Perplexity with regularizer')\n",
    "plt.plot(values)\n",
    "\n",
    "plt.subplot(1,2,2)\n",
    "values = np.array(model_lenta_unbalanced.score_tracker['perplexity'].value)\n",
    "med = np.median(values)\n",
    "values[values > 5 * med] = np.nan\n",
    "\n",
    "plt.title('Perplexity without regularizer')\n",
    "plt.plot(values)"
   ]
  },
  {
   "cell_type": "code",
   "execution_count": 15,
   "metadata": {},
   "outputs": [
    {
     "data": {
      "text/plain": [
       "{'topic_0': {'values': array([1.04502221, 0.22210352, 0.15407472, 0.14849626, 0.14238983,\n",
       "         0.13601509, 0.09503445, 0.09142261, 0.08793677, 0.08748472,\n",
       "         0.07350841, 0.0472208 , 0.03795204, 0.03394298, 0.03318733,\n",
       "         0.02742143, 0.02614169, 0.02397328, 0.02322918, 0.02274233]),\n",
       "  'tokens': [('text', '.'),\n",
       "   ('ngramms', 'миллиард_рубль'),\n",
       "   ('text', '<person>'),\n",
       "   ('text', 'год'),\n",
       "   ('ngramms', 'миллиард_доллар'),\n",
       "   ('ngramms', '<person>_<person>'),\n",
       "   ('text', 'что'),\n",
       "   ('text', 'В'),\n",
       "   ('ngramms', 'миллион_доллар'),\n",
       "   ('text', 'быть'),\n",
       "   ('text', 'компания'),\n",
       "   ('text', 'процент'),\n",
       "   ('text', 'миллиард'),\n",
       "   ('ngramms', 'генеральный_директор'),\n",
       "   ('text', 'как'),\n",
       "   ('text', 'российский'),\n",
       "   ('text', 'рубль'),\n",
       "   ('text', 'россия'),\n",
       "   ('ngramms', 'российский_компания'),\n",
       "   ('ngramms', 'В_настоящее_время')]},\n",
       " 'topic_1': {'values': array([0.45648949, 0.31196649, 0.1445682 , 0.0994574 , 0.08529308,\n",
       "         0.08240022, 0.07642501, 0.07561471, 0.06519225, 0.05987523,\n",
       "         0.05227836, 0.04590617, 0.0452647 , 0.04291761, 0.04128294,\n",
       "         0.03835479, 0.03501697, 0.03367175, 0.03148391, 0.03046409]),\n",
       "  'tokens': [('ngramms', '<person>_<person>'),\n",
       "   ('text', '<person>'),\n",
       "   ('text', 'компания'),\n",
       "   ('ngramms', 'процент_акция'),\n",
       "   ('text', '.'),\n",
       "   ('text', 'что'),\n",
       "   ('ngramms', 'пресс_релиз'),\n",
       "   ('text', 'год'),\n",
       "   ('text', 'миллион'),\n",
       "   ('ngramms', 'миллиард_рубль'),\n",
       "   ('ngramms', 'миллион_рубль'),\n",
       "   ('text', 'В'),\n",
       "   ('text', 'россия'),\n",
       "   ('text', 'процент'),\n",
       "   ('text', 'рубль'),\n",
       "   ('text', 'российский'),\n",
       "   ('text', 'тысяча'),\n",
       "   ('text', 'миллиард'),\n",
       "   ('ngramms', 'В_результат'),\n",
       "   ('ngramms', 'ценный_бумага')]}}"
      ]
     },
     "execution_count": 15,
     "metadata": {},
     "output_type": "execute_result"
    }
   ],
   "source": [
    "top_tokens = BleiTopTokens(num_top_tokens=20).view(model_lenta.get_phi())\n",
    "\n",
    "top_tokens"
   ]
  },
  {
   "cell_type": "code",
   "execution_count": 16,
   "metadata": {},
   "outputs": [
    {
     "data": {
      "text/plain": [
       "{'topic_0': {'values': array([1.49591932, 0.63121543, 0.43788475, 0.38205045, 0.35586638,\n",
       "         0.3338151 , 0.29998855, 0.20755139, 0.20057104, 0.19554947,\n",
       "         0.19035631, 0.16812195, 0.15359521, 0.15203565, 0.13620949,\n",
       "         0.10457361, 0.09753865, 0.09131999, 0.08434176, 0.08196134]),\n",
       "  'tokens': [('text', '.'),\n",
       "   ('ngramms', 'миллиард_рубль'),\n",
       "   ('ngramms', '<person>_<person>'),\n",
       "   ('text', '<person>'),\n",
       "   ('text', 'год'),\n",
       "   ('ngramms', 'миллиард_доллар'),\n",
       "   ('text', 'компания'),\n",
       "   ('text', 'что'),\n",
       "   ('text', 'процент'),\n",
       "   ('ngramms', 'миллион_доллар'),\n",
       "   ('text', 'В'),\n",
       "   ('ngramms', 'процент_акция'),\n",
       "   ('text', 'быть'),\n",
       "   ('text', 'миллиард'),\n",
       "   ('text', 'рубль'),\n",
       "   ('ngramms', 'миллион_рубль'),\n",
       "   ('ngramms', 'пресс_релиз'),\n",
       "   ('text', 'доллар'),\n",
       "   ('text', 'миллион'),\n",
       "   ('text', 'акция')]},\n",
       " 'topic_1': {'values': array([1.29120554, 0.70799959, 0.55359932, 0.21605713, 0.18402898,\n",
       "         0.16509006, 0.16181467, 0.13672649, 0.08754144, 0.08249693,\n",
       "         0.07979811, 0.07085093, 0.06449781, 0.06260733, 0.06256017,\n",
       "         0.05991222, 0.0593308 , 0.05895384, 0.05706392, 0.05682607]),\n",
       "  'tokens': [('text', '.'),\n",
       "   ('ngramms', '<person>_<person>'),\n",
       "   ('text', '<person>'),\n",
       "   ('text', 'что'),\n",
       "   ('text', 'год'),\n",
       "   ('text', 'быть'),\n",
       "   ('text', 'В'),\n",
       "   ('text', 'компания'),\n",
       "   ('text', 'российский'),\n",
       "   ('ngramms', 'пресс_релиз'),\n",
       "   ('text', 'россия'),\n",
       "   ('ngramms', 'миллиард_кубометр'),\n",
       "   ('text', 'газпром'),\n",
       "   ('ngramms', 'пресс_служба'),\n",
       "   ('text', 'как'),\n",
       "   ('ngramms', 'российский_компания'),\n",
       "   ('ngramms', 'тысяча_рубль'),\n",
       "   ('ngramms', 'турецкий_поток'),\n",
       "   ('ngramms', 'миллиард_доллар'),\n",
       "   ('text', 'авиакомпания')]}}"
      ]
     },
     "execution_count": 16,
     "metadata": {},
     "output_type": "execute_result"
    }
   ],
   "source": [
    "unbalanced_top_tokens = BleiTopTokens(num_top_tokens=20).view(model_lenta_unbalanced.get_phi())\n",
    "\n",
    "unbalanced_top_tokens"
   ]
  },
  {
   "cell_type": "markdown",
   "metadata": {},
   "source": [
    "## Semantic heterogenity regularizer ($\\tau$=10)"
   ]
  },
  {
   "cell_type": "code",
   "execution_count": 18,
   "metadata": {},
   "outputs": [
    {
     "ename": "KeyboardInterrupt",
     "evalue": "",
     "output_type": "error",
     "traceback": [
      "\u001b[0;31m---------------------------------------------------------------------------\u001b[0m",
      "\u001b[0;31mKeyboardInterrupt\u001b[0m                         Traceback (most recent call last)",
      "\u001b[0;32m<ipython-input-18-ba4a6d317108>\u001b[0m in \u001b[0;36m<module>\u001b[0;34m\u001b[0m\n\u001b[1;32m      5\u001b[0m \u001b[0mstatistics\u001b[0m \u001b[0;34m=\u001b[0m \u001b[0mModelStatistics\u001b[0m\u001b[0;34m(\u001b[0m\u001b[0mmodel_lenta\u001b[0m\u001b[0;34m)\u001b[0m\u001b[0;34m\u001b[0m\u001b[0;34m\u001b[0m\u001b[0m\n\u001b[1;32m      6\u001b[0m custom_regularizers = [\n\u001b[0;32m----> 7\u001b[0;31m     \u001b[0mSemanticHeterogenityRegularizer\u001b[0m\u001b[0;34m(\u001b[0m\u001b[0;34m'heterogenity'\u001b[0m\u001b[0;34m,\u001b[0m \u001b[0;36m10\u001b[0m\u001b[0;34m,\u001b[0m \u001b[0mstatistics\u001b[0m\u001b[0;34m,\u001b[0m \u001b[0mbatch_vectorizer_lenta\u001b[0m\u001b[0;34m)\u001b[0m\u001b[0;34m\u001b[0m\u001b[0;34m\u001b[0m\u001b[0m\n\u001b[0m\u001b[1;32m      8\u001b[0m ]\n\u001b[1;32m      9\u001b[0m \u001b[0;34m\u001b[0m\u001b[0m\n",
      "\u001b[0;32m~/projects/UnbalancedTopicModelling/library/regularization.py\u001b[0m in \u001b[0;36m__init__\u001b[0;34m(self, name, tau, semantic_statistics, batch_vectorizer)\u001b[0m\n\u001b[1;32m     69\u001b[0m         \u001b[0mself\u001b[0m\u001b[0;34m.\u001b[0m\u001b[0mbatch_vectorizer\u001b[0m \u001b[0;34m=\u001b[0m \u001b[0mbatch_vectorizer\u001b[0m\u001b[0;34m\u001b[0m\u001b[0;34m\u001b[0m\u001b[0m\n\u001b[1;32m     70\u001b[0m \u001b[0;34m\u001b[0m\u001b[0m\n\u001b[0;32m---> 71\u001b[0;31m         \u001b[0mself\u001b[0m\u001b[0;34m.\u001b[0m\u001b[0mstatistics\u001b[0m\u001b[0;34m.\u001b[0m\u001b[0mcalculate_n\u001b[0m\u001b[0;34m(\u001b[0m\u001b[0mself\u001b[0m\u001b[0;34m.\u001b[0m\u001b[0mbatch_vectorizer\u001b[0m\u001b[0;34m)\u001b[0m\u001b[0;34m\u001b[0m\u001b[0;34m\u001b[0m\u001b[0m\n\u001b[0m\u001b[1;32m     72\u001b[0m \u001b[0;34m\u001b[0m\u001b[0m\n\u001b[1;32m     73\u001b[0m     \u001b[0;32mdef\u001b[0m \u001b[0mgrad\u001b[0m\u001b[0;34m(\u001b[0m\u001b[0mself\u001b[0m\u001b[0;34m,\u001b[0m \u001b[0mpwt\u001b[0m\u001b[0;34m,\u001b[0m \u001b[0mnwt\u001b[0m\u001b[0;34m)\u001b[0m\u001b[0;34m:\u001b[0m\u001b[0;34m\u001b[0m\u001b[0;34m\u001b[0m\u001b[0m\n",
      "\u001b[0;32m~/projects/UnbalancedTopicModelling/library/statistics.py\u001b[0m in \u001b[0;36mcalculate_n\u001b[0;34m(self, batch_vectorizer)\u001b[0m\n\u001b[1;32m     72\u001b[0m                     \u001b[0;32mif\u001b[0m \u001b[0mis_phi_multiindex\u001b[0m\u001b[0;34m:\u001b[0m\u001b[0;34m\u001b[0m\u001b[0;34m\u001b[0m\u001b[0m\n\u001b[1;32m     73\u001b[0m                         \u001b[0;32mif\u001b[0m \u001b[0mphi_index\u001b[0m\u001b[0;34m.\u001b[0m\u001b[0misin\u001b[0m\u001b[0;34m(\u001b[0m\u001b[0;34m[\u001b[0m\u001b[0;34m(\u001b[0m\u001b[0mmodality\u001b[0m\u001b[0;34m,\u001b[0m \u001b[0mtoken\u001b[0m\u001b[0;34m)\u001b[0m\u001b[0;34m]\u001b[0m\u001b[0;34m)\u001b[0m\u001b[0;34m.\u001b[0m\u001b[0many\u001b[0m\u001b[0;34m(\u001b[0m\u001b[0;34m)\u001b[0m\u001b[0;34m:\u001b[0m\u001b[0;34m\u001b[0m\u001b[0;34m\u001b[0m\u001b[0m\n\u001b[0;32m---> 74\u001b[0;31m                             \u001b[0mself\u001b[0m\u001b[0;34m.\u001b[0m\u001b[0mnwd\u001b[0m\u001b[0;34m.\u001b[0m\u001b[0mloc\u001b[0m\u001b[0;34m[\u001b[0m\u001b[0;34m(\u001b[0m\u001b[0mmodality\u001b[0m\u001b[0;34m,\u001b[0m \u001b[0mtoken\u001b[0m\u001b[0;34m)\u001b[0m\u001b[0;34m,\u001b[0m \u001b[0mtheta_item_id\u001b[0m\u001b[0;34m]\u001b[0m \u001b[0;34m+=\u001b[0m \u001b[0mtoken_weight\u001b[0m\u001b[0;34m\u001b[0m\u001b[0;34m\u001b[0m\u001b[0m\n\u001b[0m\u001b[1;32m     75\u001b[0m                     \u001b[0;32melif\u001b[0m \u001b[0mphi_index\u001b[0m\u001b[0;34m.\u001b[0m\u001b[0misin\u001b[0m\u001b[0;34m(\u001b[0m\u001b[0;34m[\u001b[0m\u001b[0mtoken\u001b[0m\u001b[0;34m]\u001b[0m\u001b[0;34m)\u001b[0m\u001b[0;34m.\u001b[0m\u001b[0many\u001b[0m\u001b[0;34m(\u001b[0m\u001b[0;34m)\u001b[0m\u001b[0;34m:\u001b[0m\u001b[0;34m\u001b[0m\u001b[0;34m\u001b[0m\u001b[0m\n\u001b[1;32m     76\u001b[0m                         \u001b[0mself\u001b[0m\u001b[0;34m.\u001b[0m\u001b[0mnwd\u001b[0m\u001b[0;34m.\u001b[0m\u001b[0mloc\u001b[0m\u001b[0;34m[\u001b[0m\u001b[0mtoken\u001b[0m\u001b[0;34m,\u001b[0m \u001b[0mtheta_item_id\u001b[0m\u001b[0;34m]\u001b[0m \u001b[0;34m+=\u001b[0m \u001b[0mtoken_weight\u001b[0m\u001b[0;34m\u001b[0m\u001b[0;34m\u001b[0m\u001b[0m\n",
      "\u001b[0;32m/data/artm10/lib/python3.7/site-packages/pandas/core/indexing.py\u001b[0m in \u001b[0;36m__setitem__\u001b[0;34m(self, key, value)\u001b[0m\n\u001b[1;32m    203\u001b[0m             \u001b[0mkey\u001b[0m \u001b[0;34m=\u001b[0m \u001b[0mcom\u001b[0m\u001b[0;34m.\u001b[0m\u001b[0mapply_if_callable\u001b[0m\u001b[0;34m(\u001b[0m\u001b[0mkey\u001b[0m\u001b[0;34m,\u001b[0m \u001b[0mself\u001b[0m\u001b[0;34m.\u001b[0m\u001b[0mobj\u001b[0m\u001b[0;34m)\u001b[0m\u001b[0;34m\u001b[0m\u001b[0;34m\u001b[0m\u001b[0m\n\u001b[1;32m    204\u001b[0m         \u001b[0mindexer\u001b[0m \u001b[0;34m=\u001b[0m \u001b[0mself\u001b[0m\u001b[0;34m.\u001b[0m\u001b[0m_get_setitem_indexer\u001b[0m\u001b[0;34m(\u001b[0m\u001b[0mkey\u001b[0m\u001b[0;34m)\u001b[0m\u001b[0;34m\u001b[0m\u001b[0;34m\u001b[0m\u001b[0m\n\u001b[0;32m--> 205\u001b[0;31m         \u001b[0mself\u001b[0m\u001b[0;34m.\u001b[0m\u001b[0m_setitem_with_indexer\u001b[0m\u001b[0;34m(\u001b[0m\u001b[0mindexer\u001b[0m\u001b[0;34m,\u001b[0m \u001b[0mvalue\u001b[0m\u001b[0;34m)\u001b[0m\u001b[0;34m\u001b[0m\u001b[0;34m\u001b[0m\u001b[0m\n\u001b[0m\u001b[1;32m    206\u001b[0m \u001b[0;34m\u001b[0m\u001b[0m\n\u001b[1;32m    207\u001b[0m     \u001b[0;32mdef\u001b[0m \u001b[0m_validate_key\u001b[0m\u001b[0;34m(\u001b[0m\u001b[0mself\u001b[0m\u001b[0;34m,\u001b[0m \u001b[0mkey\u001b[0m\u001b[0;34m,\u001b[0m \u001b[0maxis\u001b[0m\u001b[0;34m:\u001b[0m \u001b[0mint\u001b[0m\u001b[0;34m)\u001b[0m\u001b[0;34m:\u001b[0m\u001b[0;34m\u001b[0m\u001b[0;34m\u001b[0m\u001b[0m\n",
      "\u001b[0;32m/data/artm10/lib/python3.7/site-packages/pandas/core/indexing.py\u001b[0m in \u001b[0;36m_setitem_with_indexer\u001b[0;34m(self, indexer, value)\u001b[0m\n\u001b[1;32m    591\u001b[0m             \u001b[0;31m# actually do the set\u001b[0m\u001b[0;34m\u001b[0m\u001b[0;34m\u001b[0m\u001b[0;34m\u001b[0m\u001b[0m\n\u001b[1;32m    592\u001b[0m             \u001b[0mself\u001b[0m\u001b[0;34m.\u001b[0m\u001b[0mobj\u001b[0m\u001b[0;34m.\u001b[0m\u001b[0m_consolidate_inplace\u001b[0m\u001b[0;34m(\u001b[0m\u001b[0;34m)\u001b[0m\u001b[0;34m\u001b[0m\u001b[0;34m\u001b[0m\u001b[0m\n\u001b[0;32m--> 593\u001b[0;31m             \u001b[0mself\u001b[0m\u001b[0;34m.\u001b[0m\u001b[0mobj\u001b[0m\u001b[0;34m.\u001b[0m\u001b[0m_data\u001b[0m \u001b[0;34m=\u001b[0m \u001b[0mself\u001b[0m\u001b[0;34m.\u001b[0m\u001b[0mobj\u001b[0m\u001b[0;34m.\u001b[0m\u001b[0m_data\u001b[0m\u001b[0;34m.\u001b[0m\u001b[0msetitem\u001b[0m\u001b[0;34m(\u001b[0m\u001b[0mindexer\u001b[0m\u001b[0;34m=\u001b[0m\u001b[0mindexer\u001b[0m\u001b[0;34m,\u001b[0m \u001b[0mvalue\u001b[0m\u001b[0;34m=\u001b[0m\u001b[0mvalue\u001b[0m\u001b[0;34m)\u001b[0m\u001b[0;34m\u001b[0m\u001b[0;34m\u001b[0m\u001b[0m\n\u001b[0m\u001b[1;32m    594\u001b[0m             \u001b[0mself\u001b[0m\u001b[0;34m.\u001b[0m\u001b[0mobj\u001b[0m\u001b[0;34m.\u001b[0m\u001b[0m_maybe_update_cacher\u001b[0m\u001b[0;34m(\u001b[0m\u001b[0mclear\u001b[0m\u001b[0;34m=\u001b[0m\u001b[0;32mTrue\u001b[0m\u001b[0;34m)\u001b[0m\u001b[0;34m\u001b[0m\u001b[0;34m\u001b[0m\u001b[0m\n\u001b[1;32m    595\u001b[0m \u001b[0;34m\u001b[0m\u001b[0m\n",
      "\u001b[0;32m/data/artm10/lib/python3.7/site-packages/pandas/core/internals/managers.py\u001b[0m in \u001b[0;36msetitem\u001b[0;34m(self, **kwargs)\u001b[0m\n\u001b[1;32m    558\u001b[0m \u001b[0;34m\u001b[0m\u001b[0m\n\u001b[1;32m    559\u001b[0m     \u001b[0;32mdef\u001b[0m \u001b[0msetitem\u001b[0m\u001b[0;34m(\u001b[0m\u001b[0mself\u001b[0m\u001b[0;34m,\u001b[0m \u001b[0;34m**\u001b[0m\u001b[0mkwargs\u001b[0m\u001b[0;34m)\u001b[0m\u001b[0;34m:\u001b[0m\u001b[0;34m\u001b[0m\u001b[0;34m\u001b[0m\u001b[0m\n\u001b[0;32m--> 560\u001b[0;31m         \u001b[0;32mreturn\u001b[0m \u001b[0mself\u001b[0m\u001b[0;34m.\u001b[0m\u001b[0mapply\u001b[0m\u001b[0;34m(\u001b[0m\u001b[0;34m\"setitem\"\u001b[0m\u001b[0;34m,\u001b[0m \u001b[0;34m**\u001b[0m\u001b[0mkwargs\u001b[0m\u001b[0;34m)\u001b[0m\u001b[0;34m\u001b[0m\u001b[0;34m\u001b[0m\u001b[0m\n\u001b[0m\u001b[1;32m    561\u001b[0m \u001b[0;34m\u001b[0m\u001b[0m\n\u001b[1;32m    562\u001b[0m     \u001b[0;32mdef\u001b[0m \u001b[0mputmask\u001b[0m\u001b[0;34m(\u001b[0m\u001b[0mself\u001b[0m\u001b[0;34m,\u001b[0m \u001b[0;34m**\u001b[0m\u001b[0mkwargs\u001b[0m\u001b[0;34m)\u001b[0m\u001b[0;34m:\u001b[0m\u001b[0;34m\u001b[0m\u001b[0;34m\u001b[0m\u001b[0m\n",
      "\u001b[0;32m/data/artm10/lib/python3.7/site-packages/pandas/core/internals/managers.py\u001b[0m in \u001b[0;36mapply\u001b[0;34m(self, f, axes, filter, do_integrity_check, consolidate, **kwargs)\u001b[0m\n\u001b[1;32m    442\u001b[0m             \u001b[0;32mreturn\u001b[0m \u001b[0mself\u001b[0m\u001b[0;34m.\u001b[0m\u001b[0mmake_empty\u001b[0m\u001b[0;34m(\u001b[0m\u001b[0maxes\u001b[0m \u001b[0;32mor\u001b[0m \u001b[0mself\u001b[0m\u001b[0;34m.\u001b[0m\u001b[0maxes\u001b[0m\u001b[0;34m)\u001b[0m\u001b[0;34m\u001b[0m\u001b[0;34m\u001b[0m\u001b[0m\n\u001b[1;32m    443\u001b[0m         bm = self.__class__(\n\u001b[0;32m--> 444\u001b[0;31m             \u001b[0mresult_blocks\u001b[0m\u001b[0;34m,\u001b[0m \u001b[0maxes\u001b[0m \u001b[0;32mor\u001b[0m \u001b[0mself\u001b[0m\u001b[0;34m.\u001b[0m\u001b[0maxes\u001b[0m\u001b[0;34m,\u001b[0m \u001b[0mdo_integrity_check\u001b[0m\u001b[0;34m=\u001b[0m\u001b[0mdo_integrity_check\u001b[0m\u001b[0;34m\u001b[0m\u001b[0;34m\u001b[0m\u001b[0m\n\u001b[0m\u001b[1;32m    445\u001b[0m         )\n\u001b[1;32m    446\u001b[0m         \u001b[0mbm\u001b[0m\u001b[0;34m.\u001b[0m\u001b[0m_consolidate_inplace\u001b[0m\u001b[0;34m(\u001b[0m\u001b[0;34m)\u001b[0m\u001b[0;34m\u001b[0m\u001b[0;34m\u001b[0m\u001b[0m\n",
      "\u001b[0;32m/data/artm10/lib/python3.7/site-packages/pandas/core/internals/managers.py\u001b[0m in \u001b[0;36m__init__\u001b[0;34m(self, blocks, axes, do_integrity_check)\u001b[0m\n\u001b[1;32m    134\u001b[0m \u001b[0;34m\u001b[0m\u001b[0m\n\u001b[1;32m    135\u001b[0m         \u001b[0;32mfor\u001b[0m \u001b[0mblock\u001b[0m \u001b[0;32min\u001b[0m \u001b[0mblocks\u001b[0m\u001b[0;34m:\u001b[0m\u001b[0;34m\u001b[0m\u001b[0;34m\u001b[0m\u001b[0m\n\u001b[0;32m--> 136\u001b[0;31m             \u001b[0;32mif\u001b[0m \u001b[0mself\u001b[0m\u001b[0;34m.\u001b[0m\u001b[0mndim\u001b[0m \u001b[0;34m!=\u001b[0m \u001b[0mblock\u001b[0m\u001b[0;34m.\u001b[0m\u001b[0mndim\u001b[0m\u001b[0;34m:\u001b[0m\u001b[0;34m\u001b[0m\u001b[0;34m\u001b[0m\u001b[0m\n\u001b[0m\u001b[1;32m    137\u001b[0m                 raise AssertionError(\n\u001b[1;32m    138\u001b[0m                     \u001b[0;34m\"Number of Block dimensions ({block}) must equal \"\u001b[0m\u001b[0;34m\u001b[0m\u001b[0;34m\u001b[0m\u001b[0m\n",
      "\u001b[0;32m/data/artm10/lib/python3.7/site-packages/pandas/core/internals/managers.py\u001b[0m in \u001b[0;36mndim\u001b[0;34m(self)\u001b[0m\n\u001b[1;32m    171\u001b[0m     \u001b[0;34m@\u001b[0m\u001b[0mproperty\u001b[0m\u001b[0;34m\u001b[0m\u001b[0;34m\u001b[0m\u001b[0m\n\u001b[1;32m    172\u001b[0m     \u001b[0;32mdef\u001b[0m \u001b[0mndim\u001b[0m\u001b[0;34m(\u001b[0m\u001b[0mself\u001b[0m\u001b[0;34m)\u001b[0m\u001b[0;34m:\u001b[0m\u001b[0;34m\u001b[0m\u001b[0;34m\u001b[0m\u001b[0m\n\u001b[0;32m--> 173\u001b[0;31m         \u001b[0;32mreturn\u001b[0m \u001b[0mlen\u001b[0m\u001b[0;34m(\u001b[0m\u001b[0mself\u001b[0m\u001b[0;34m.\u001b[0m\u001b[0maxes\u001b[0m\u001b[0;34m)\u001b[0m\u001b[0;34m\u001b[0m\u001b[0;34m\u001b[0m\u001b[0m\n\u001b[0m\u001b[1;32m    174\u001b[0m \u001b[0;34m\u001b[0m\u001b[0m\n\u001b[1;32m    175\u001b[0m     \u001b[0;32mdef\u001b[0m \u001b[0mset_axis\u001b[0m\u001b[0;34m(\u001b[0m\u001b[0mself\u001b[0m\u001b[0;34m,\u001b[0m \u001b[0maxis\u001b[0m\u001b[0;34m,\u001b[0m \u001b[0mnew_labels\u001b[0m\u001b[0;34m)\u001b[0m\u001b[0;34m:\u001b[0m\u001b[0;34m\u001b[0m\u001b[0;34m\u001b[0m\u001b[0m\n",
      "\u001b[0;31mKeyboardInterrupt\u001b[0m: "
     ]
    }
   ],
   "source": [
    "model_lenta = artm.ARTM(num_topics=2, cache_theta=True)\n",
    "model_lenta.scores.add(artm.scores.PerplexityScore(name='perplexity'))\n",
    "model_lenta.initialize(dictionary_lenta)\n",
    "\n",
    "statistics = ModelStatistics(model_lenta)\n",
    "custom_regularizers = [\n",
    "    SemanticHeterogenityRegularizer('heterogenity', 10, statistics, batch_vectorizer_lenta)\n",
    "]\n",
    "\n",
    "custom_fit_offline(model_lenta, custom_regularizers, batch_vectorizer_lenta, 10)"
   ]
  },
  {
   "cell_type": "code",
   "execution_count": null,
   "metadata": {},
   "outputs": [],
   "source": [
    "model_lenta_unbalanced = artm.ARTM(num_topics=2, cache_theta=True)\n",
    "model_lenta_unbalanced.scores.add(artm.scores.PerplexityScore(name='perplexity'))\n",
    "model_lenta_unbalanced.initialize(dictionary_lenta)\n",
    "\n",
    "model_lenta_unbalanced.fit_offline(batch_vectorizer_lenta, 10)"
   ]
  },
  {
   "cell_type": "code",
   "execution_count": null,
   "metadata": {},
   "outputs": [],
   "source": [
    "plt.figure(figsize=(14,4))\n",
    "\n",
    "plt.subplot(1,2,1)\n",
    "values = np.array(model_lenta.score_tracker['perplexity'].value)\n",
    "med = np.median(values)\n",
    "values[values > 5 * med] = np.nan\n",
    "\n",
    "plt.title('Perplexity with regularizer')\n",
    "plt.plot(values)\n",
    "\n",
    "plt.subplot(1,2,2)\n",
    "values = np.array(model_lenta_unbalanced.score_tracker['perplexity'].value)\n",
    "med = np.median(values)\n",
    "values[values > 5 * med] = np.nan\n",
    "\n",
    "plt.title('Perplexity without regularizer')\n",
    "plt.plot(values)"
   ]
  },
  {
   "cell_type": "code",
   "execution_count": null,
   "metadata": {},
   "outputs": [],
   "source": [
    "top_tokens = BleiTopTokens(num_top_tokens=20).view(model_lenta.get_phi())\n",
    "\n",
    "top_tokens"
   ]
  },
  {
   "cell_type": "code",
   "execution_count": null,
   "metadata": {},
   "outputs": [],
   "source": [
    "unbalanced_top_tokens = BleiTopTokens(num_top_tokens=20).view(model_lenta_unbalanced.get_phi())\n",
    "\n",
    "unbalanced_top_tokens"
   ]
  },
  {
   "cell_type": "markdown",
   "metadata": {},
   "source": [
    "---"
   ]
  }
 ],
 "metadata": {
  "kernelspec": {
   "display_name": "Environment (conda_artm10)",
   "language": "python",
   "name": "conda_artm10"
  },
  "language_info": {
   "codemirror_mode": {
    "name": "ipython",
    "version": 3
   },
   "file_extension": ".py",
   "mimetype": "text/x-python",
   "name": "python",
   "nbconvert_exporter": "python",
   "pygments_lexer": "ipython3",
   "version": "3.7.4"
  }
 },
 "nbformat": 4,
 "nbformat_minor": 2
}
